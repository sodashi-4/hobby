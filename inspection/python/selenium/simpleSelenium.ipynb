{
 "cells": [
  {
   "cell_type": "markdown",
   "id": "fe65e0b0-2535-43a9-9e3b-c0baea2f3461",
   "metadata": {},
   "source": [
    "qiitaのスクレイピング\n",
    "\n",
    "Seleniumのドキュメント\n",
    "https://selenium-python.readthedocs.io/"
   ]
  },
  {
   "cell_type": "code",
   "execution_count": 1,
   "id": "b1537dac-b994-4550-890a-3675bb798659",
   "metadata": {},
   "outputs": [],
   "source": [
    "import selenium\n",
    "from time import sleep\n",
    "from bs4 import BeautifulSoup\n",
    "from shutil import which\n",
    "from selenium import webdriver\n",
    "from selenium.webdriver.common.keys import Keys"
   ]
  },
  {
   "cell_type": "markdown",
   "id": "aef3670e-c5d7-4336-a735-d28b95cebd22",
   "metadata": {},
   "source": [
    "ヘッドレスでの実行は以下のオプションを追加"
   ]
  },
  {
   "cell_type": "code",
   "execution_count": null,
   "id": "f44e8ce7-4d9e-4a3f-822a-143c0e407d5a",
   "metadata": {},
   "outputs": [],
   "source": [
    "from selenium.webdriver.chrome.options import Options\n",
    "options = Options()\n",
    "options.add_argument('--headless')\n",
    "driver = webdriver.Chrome(which('chromedriver'),options=options)"
   ]
  },
  {
   "cell_type": "markdown",
   "id": "6b140c19-a7e8-4be2-9972-7000c8fcd6fe",
   "metadata": {},
   "source": [
    "ヘッドレスじゃないselenium"
   ]
  },
  {
   "cell_type": "code",
   "execution_count": null,
   "id": "ee2dfab0-fe85-4e03-b8b8-b26c650e5b3c",
   "metadata": {},
   "outputs": [],
   "source": [
    "# url='https://qiita.com/'\n",
    "# driver = webdriver.Chrome(which('chromedriver'))"
   ]
  },
  {
   "cell_type": "code",
   "execution_count": null,
   "id": "e2161e33-85c6-4264-a46f-e174e6167cd3",
   "metadata": {},
   "outputs": [],
   "source": [
    "driver.get(url)\n",
    "sleep(3)"
   ]
  },
  {
   "cell_type": "code",
   "execution_count": null,
   "id": "350965f6-3024-4984-b8da-63d3f26ee94b",
   "metadata": {},
   "outputs": [],
   "source": [
    "# リンクの取得\n",
    "article = driver.find_element_by_xpath('//main//article/a')\n",
    "link = article.get_attribute('href')\n",
    "link"
   ]
  },
  {
   "cell_type": "code",
   "execution_count": null,
   "id": "b64eb21f-6e1a-405c-af0e-b131764289cf",
   "metadata": {},
   "outputs": [],
   "source": [
    "# 複数の要素を取得\n",
    "articles = driver.find_elements_by_xpath('//main//article/a')\n",
    "for article in articles:\n",
    "    link = article.get_attribute('href')\n",
    "    print(link)\n"
   ]
  },
  {
   "cell_type": "code",
   "execution_count": null,
   "id": "410e294c-f13f-47f8-a920-a102c75582a8",
   "metadata": {},
   "outputs": [],
   "source": [
    "driver.exit()"
   ]
  },
  {
   "cell_type": "code",
   "execution_count": null,
   "id": "49cd4824-1fd9-42ec-96b7-89cabdb8a5eb",
   "metadata": {},
   "outputs": [],
   "source": []
  }
 ],
 "metadata": {
  "kernelspec": {
   "display_name": "Python 3 (ipykernel)",
   "language": "python",
   "name": "python3"
  },
  "language_info": {
   "codemirror_mode": {
    "name": "ipython",
    "version": 3
   },
   "file_extension": ".py",
   "mimetype": "text/x-python",
   "name": "python",
   "nbconvert_exporter": "python",
   "pygments_lexer": "ipython3",
   "version": "3.9.7"
  }
 },
 "nbformat": 4,
 "nbformat_minor": 5
}
