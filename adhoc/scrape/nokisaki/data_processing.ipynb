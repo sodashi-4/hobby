{
 "cells": [
  {
   "cell_type": "code",
   "execution_count": 57,
   "id": "b2162408-c58d-4c20-b2a4-54b94c3c9941",
   "metadata": {},
   "outputs": [],
   "source": [
    "import pandas as pd\n",
    "import matplotlib.pyplot as plt\n",
    "import re\n",
    "import numpy as np"
   ]
  },
  {
   "cell_type": "code",
   "execution_count": 58,
   "id": "b04959ca-aed7-4dcd-be3a-d4922e2af56a",
   "metadata": {},
   "outputs": [],
   "source": [
    "df = pd.read_csv('nokisaki.csv')"
   ]
  },
  {
   "cell_type": "code",
   "execution_count": 59,
   "id": "b6fae98a-23bd-4b66-9b3a-355ca1fbe3fc",
   "metadata": {},
   "outputs": [
    {
     "data": {
      "text/plain": [
       "10181"
      ]
     },
     "execution_count": 59,
     "metadata": {},
     "output_type": "execute_result"
    }
   ],
   "source": [
    "len(df)"
   ]
  },
  {
   "cell_type": "markdown",
   "id": "1bf4aa30-4ac7-49b2-837b-1dd1fdfa39e7",
   "metadata": {},
   "source": [
    "null値の削除"
   ]
  },
  {
   "cell_type": "code",
   "execution_count": 60,
   "id": "00d31b7b-bff1-4195-a6cd-d17dfc53316f",
   "metadata": {},
   "outputs": [],
   "source": [
    "df = df[df['name']!='-']"
   ]
  },
  {
   "cell_type": "code",
   "execution_count": 61,
   "id": "be64fbc2-2dd2-49d8-b0e5-fe48ee8f9c8b",
   "metadata": {},
   "outputs": [
    {
     "data": {
      "text/plain": [
       "2118"
      ]
     },
     "execution_count": 61,
     "metadata": {},
     "output_type": "execute_result"
    }
   ],
   "source": [
    "len(df)"
   ]
  },
  {
   "cell_type": "markdown",
   "id": "eaa47e99-dace-4b9d-8142-702ec10dcc6e",
   "metadata": {},
   "source": [
    "priceのカンマ削除"
   ]
  },
  {
   "cell_type": "code",
   "execution_count": 62,
   "id": "8ead6d95-1a60-4dd4-8dd6-1cec0582b6b6",
   "metadata": {},
   "outputs": [],
   "source": [
    "df.price = df.price.apply(lambda x: x.replace(',',''))"
   ]
  },
  {
   "cell_type": "code",
   "execution_count": 69,
   "id": "b2700ace-16d3-4445-8662-11f1e8b6317e",
   "metadata": {},
   "outputs": [],
   "source": [
    "def extract_post(x):\n",
    "    try:\n",
    "        x = re.findall(r'〒\\d{7}',x)\n",
    "        return x[0][1:]\n",
    "    except:\n",
    "        return np.nan"
   ]
  },
  {
   "cell_type": "code",
   "execution_count": 70,
   "id": "91f3d842-b6d1-4838-a5c1-28db4862fb91",
   "metadata": {},
   "outputs": [],
   "source": [
    "df['post_number'] = df.address.apply(extract_post)"
   ]
  },
  {
   "cell_type": "code",
   "execution_count": 71,
   "id": "9be96af1-9565-492e-a048-6c75dc95cd64",
   "metadata": {},
   "outputs": [
    {
     "data": {
      "text/html": [
       "<div>\n",
       "<style scoped>\n",
       "    .dataframe tbody tr th:only-of-type {\n",
       "        vertical-align: middle;\n",
       "    }\n",
       "\n",
       "    .dataframe tbody tr th {\n",
       "        vertical-align: top;\n",
       "    }\n",
       "\n",
       "    .dataframe thead th {\n",
       "        text-align: right;\n",
       "    }\n",
       "</style>\n",
       "<table border=\"1\" class=\"dataframe\">\n",
       "  <thead>\n",
       "    <tr style=\"text-align: right;\">\n",
       "      <th></th>\n",
       "      <th>name</th>\n",
       "      <th>price</th>\n",
       "      <th>address</th>\n",
       "      <th>discription</th>\n",
       "      <th>space_type</th>\n",
       "      <th>space_breadth</th>\n",
       "      <th>use_case</th>\n",
       "      <th>facility</th>\n",
       "      <th>image</th>\n",
       "      <th>post_number</th>\n",
       "    </tr>\n",
       "  </thead>\n",
       "  <tbody>\n",
       "    <tr>\n",
       "      <th>2</th>\n",
       "      <td>四ツ谷絵本塾ホール</td>\n",
       "      <td>27500</td>\n",
       "      <td>四ツ谷絵本塾ホール〒1600011東京都新宿区若葉1-22-16</td>\n",
       "      <td>['四ツ谷にある絵本塾ホールです。閑静な住宅街にあるホールは、コンサート、発表会、セミナー、...</td>\n",
       "      <td>屋内</td>\n",
       "      <td>72.9㎡</td>\n",
       "      <td>['教室/セミナー可']</td>\n",
       "      <td>['トイレ', '冷房', '屋根', '床(砂利・土以外)', '暖房', '電気コンセント']</td>\n",
       "      <td>https://business.cdn.nokisaki.com/subs/0/2/S_5...</td>\n",
       "      <td>1600011</td>\n",
       "    </tr>\n",
       "    <tr>\n",
       "      <th>39</th>\n",
       "      <td>白浜ビルSoulbarStone前</td>\n",
       "      <td>3300</td>\n",
       "      <td>白浜ビルSoulbarStone前〒1690073東京都新宿区百人町1-22-26</td>\n",
       "      <td>['営業前のバーの軒下になります。形はL字型で奥行き1.5mのところと1mのところがあります...</td>\n",
       "      <td>屋外</td>\n",
       "      <td>3.24㎡</td>\n",
       "      <td>['販売可']</td>\n",
       "      <td>['屋根', '水道', '電気コンセント', '駐車場']</td>\n",
       "      <td>https://business.cdn.nokisaki.com/subs/0/39/S_...</td>\n",
       "      <td>1690073</td>\n",
       "    </tr>\n",
       "    <tr>\n",
       "      <th>95</th>\n",
       "      <td>ハウジングプラザ瀬田A(広告枠あり)</td>\n",
       "      <td>226281</td>\n",
       "      <td>ハウジングプラザ瀬田A(広告枠あり)〒1580095東京都世田谷区瀬田5-20</td>\n",
       "      <td>['朝日新聞総合住宅展示場ハウジングプラザ瀬田内にあるイベントスペースです。この区画はA区画...</td>\n",
       "      <td>屋外</td>\n",
       "      <td>213.84㎡</td>\n",
       "      <td>['PR可']</td>\n",
       "      <td>['トイレ', '照明', '電気コンセント', '駐車場']</td>\n",
       "      <td>https://business.cdn.nokisaki.com/subs/0/95/S_...</td>\n",
       "      <td>1580095</td>\n",
       "    </tr>\n",
       "    <tr>\n",
       "      <th>96</th>\n",
       "      <td>ハウジングプラザ瀬田B(広告枠あり)</td>\n",
       "      <td>226281</td>\n",
       "      <td>ハウジングプラザ瀬田B(広告枠あり)〒1580095東京都世田谷区瀬田5-20</td>\n",
       "      <td>['朝日新聞総合住宅展示場ハウジングプラザ瀬田内にあるイベントスペースです。この区画は区画(...</td>\n",
       "      <td>屋外</td>\n",
       "      <td>213.84㎡</td>\n",
       "      <td>['PR可']</td>\n",
       "      <td>['トイレ', '照明', '電気コンセント', '駐車場']</td>\n",
       "      <td>https://business.cdn.nokisaki.com/subs/0/96/S_...</td>\n",
       "      <td>1580095</td>\n",
       "    </tr>\n",
       "    <tr>\n",
       "      <th>97</th>\n",
       "      <td>ハウジングプラザ瀬田C(広告枠あり)</td>\n",
       "      <td>226281</td>\n",
       "      <td>ハウジングプラザ瀬田C(広告枠あり)〒1580095東京都世田谷区瀬田5-20</td>\n",
       "      <td>['朝日新聞総合住宅展示場ハウジングプラザ瀬田内にあるイベントスペースです。この区画はD区画...</td>\n",
       "      <td>屋外</td>\n",
       "      <td>213.84㎡</td>\n",
       "      <td>['PR可']</td>\n",
       "      <td>['トイレ', '照明', '電気コンセント', '駐車場']</td>\n",
       "      <td>https://business.cdn.nokisaki.com/subs/0/97/S_...</td>\n",
       "      <td>1580095</td>\n",
       "    </tr>\n",
       "  </tbody>\n",
       "</table>\n",
       "</div>"
      ],
      "text/plain": [
       "                  name   price                                    address  \\\n",
       "2            四ツ谷絵本塾ホール   27500           四ツ谷絵本塾ホール〒1600011東京都新宿区若葉1-22-16   \n",
       "39   白浜ビルSoulbarStone前    3300  白浜ビルSoulbarStone前〒1690073東京都新宿区百人町1-22-26   \n",
       "95  ハウジングプラザ瀬田A(広告枠あり)  226281    ハウジングプラザ瀬田A(広告枠あり)〒1580095東京都世田谷区瀬田5-20   \n",
       "96  ハウジングプラザ瀬田B(広告枠あり)  226281    ハウジングプラザ瀬田B(広告枠あり)〒1580095東京都世田谷区瀬田5-20   \n",
       "97  ハウジングプラザ瀬田C(広告枠あり)  226281    ハウジングプラザ瀬田C(広告枠あり)〒1580095東京都世田谷区瀬田5-20   \n",
       "\n",
       "                                          discription space_type  \\\n",
       "2   ['四ツ谷にある絵本塾ホールです。閑静な住宅街にあるホールは、コンサート、発表会、セミナー、...         屋内   \n",
       "39  ['営業前のバーの軒下になります。形はL字型で奥行き1.5mのところと1mのところがあります...         屋外   \n",
       "95  ['朝日新聞総合住宅展示場ハウジングプラザ瀬田内にあるイベントスペースです。この区画はA区画...         屋外   \n",
       "96  ['朝日新聞総合住宅展示場ハウジングプラザ瀬田内にあるイベントスペースです。この区画は区画(...         屋外   \n",
       "97  ['朝日新聞総合住宅展示場ハウジングプラザ瀬田内にあるイベントスペースです。この区画はD区画...         屋外   \n",
       "\n",
       "   space_breadth      use_case  \\\n",
       "2          72.9㎡  ['教室/セミナー可']   \n",
       "39         3.24㎡       ['販売可']   \n",
       "95       213.84㎡       ['PR可']   \n",
       "96       213.84㎡       ['PR可']   \n",
       "97       213.84㎡       ['PR可']   \n",
       "\n",
       "                                             facility  \\\n",
       "2   ['トイレ', '冷房', '屋根', '床(砂利・土以外)', '暖房', '電気コンセント']   \n",
       "39                     ['屋根', '水道', '電気コンセント', '駐車場']   \n",
       "95                    ['トイレ', '照明', '電気コンセント', '駐車場']   \n",
       "96                    ['トイレ', '照明', '電気コンセント', '駐車場']   \n",
       "97                    ['トイレ', '照明', '電気コンセント', '駐車場']   \n",
       "\n",
       "                                                image post_number  \n",
       "2   https://business.cdn.nokisaki.com/subs/0/2/S_5...     1600011  \n",
       "39  https://business.cdn.nokisaki.com/subs/0/39/S_...     1690073  \n",
       "95  https://business.cdn.nokisaki.com/subs/0/95/S_...     1580095  \n",
       "96  https://business.cdn.nokisaki.com/subs/0/96/S_...     1580095  \n",
       "97  https://business.cdn.nokisaki.com/subs/0/97/S_...     1580095  "
      ]
     },
     "execution_count": 71,
     "metadata": {},
     "output_type": "execute_result"
    }
   ],
   "source": [
    "df.head()"
   ]
  },
  {
   "cell_type": "code",
   "execution_count": 72,
   "id": "3fa4747d-621f-4845-8dea-4020b0bcf97e",
   "metadata": {},
   "outputs": [],
   "source": [
    "def extract_address(x):\n",
    "    try:\n",
    "        return ''.join(re.findall(r'(\\D+?[都道府県])((?:旭川|伊達|石狩|盛岡|奥州|田村|南相馬|那須塩原|東村山|武蔵村山|羽村|十日町|上越|富山|野々市|大町|蒲郡|四日市|姫路|大和郡山|廿日市|下松|岩国|田川|大村)市|.+?郡(?:玉村|大町|.+?)[町村]|.+?市.+?区|.+?[市区町村])(.+)',x)[0])\n",
    "    except:\n",
    "        print(''.join(re.findall(r'(...??[都道府県])((?:旭川|伊達|石狩|盛岡|奥州|田村|南相馬|那須塩原|東村山|武蔵村山|羽村|十日町|上越|富山|野々市|大町|蒲郡|四日市|姫路|大和郡山|廿日市|下松|岩国|田川|大村)市|.+?郡(?:玉村|大町|.+?)[町村]|.+?市.+?区|.+?[市区町村])(.+)',x)))\n",
    "        return '-'\n",
    "        "
   ]
  },
  {
   "cell_type": "code",
   "execution_count": 73,
   "id": "e37b9f7c-f69f-479a-b52f-1ec272529442",
   "metadata": {},
   "outputs": [
    {
     "name": "stdout",
     "output_type": "stream",
     "text": [
      "\n",
      "\n",
      "\n"
     ]
    }
   ],
   "source": [
    "df.address = df.address.apply(extract_address)"
   ]
  },
  {
   "cell_type": "code",
   "execution_count": 74,
   "id": "57028ee0-4d69-4a64-9d6e-b5bbe6a2eefa",
   "metadata": {},
   "outputs": [
    {
     "data": {
      "text/plain": [
       "6"
      ]
     },
     "execution_count": 74,
     "metadata": {},
     "output_type": "execute_result"
    }
   ],
   "source": [
    "len(df[df.price == '（応相談）'])"
   ]
  },
  {
   "cell_type": "code",
   "execution_count": 75,
   "id": "f0bd7434-492a-4e45-8c26-9eceabe2375d",
   "metadata": {},
   "outputs": [],
   "source": [
    "df = df[df.price != '（応相談）']"
   ]
  },
  {
   "cell_type": "code",
   "execution_count": 76,
   "id": "79abf428-5cf7-4cc6-9fb5-1c74aa2ec4d1",
   "metadata": {},
   "outputs": [],
   "source": [
    "df.price = df.price.apply(lambda x: int(x))"
   ]
  },
  {
   "cell_type": "code",
   "execution_count": 77,
   "id": "cd8a445c-1d79-47e8-b8d9-57bb3410a4c1",
   "metadata": {},
   "outputs": [],
   "source": [
    "pattern = '東京都|北海道|(京都|大阪)府|.{2,3}県'\n",
    "def extract_prefecture(x):\n",
    "    try:\n",
    "        return re.match(pattern,x).group()\n",
    "    except:\n",
    "        return '--'\n",
    "\n",
    "df['prefecture'] = df['address'].apply(lambda x: extract_prefecture(x))"
   ]
  },
  {
   "cell_type": "code",
   "execution_count": 78,
   "id": "ab848b4b-8788-4c86-afd5-39967aedc2eb",
   "metadata": {},
   "outputs": [],
   "source": [
    "df = df[df['prefecture'] != '--']\n",
    "df.prefecture = df.prefecture.apply(lambda x: x.replace('〈',''))"
   ]
  },
  {
   "cell_type": "code",
   "execution_count": 79,
   "id": "44713547-b18d-497f-b515-37eeb9db78fe",
   "metadata": {},
   "outputs": [
    {
     "data": {
      "text/html": [
       "<div>\n",
       "<style scoped>\n",
       "    .dataframe tbody tr th:only-of-type {\n",
       "        vertical-align: middle;\n",
       "    }\n",
       "\n",
       "    .dataframe tbody tr th {\n",
       "        vertical-align: top;\n",
       "    }\n",
       "\n",
       "    .dataframe thead th {\n",
       "        text-align: right;\n",
       "    }\n",
       "</style>\n",
       "<table border=\"1\" class=\"dataframe\">\n",
       "  <thead>\n",
       "    <tr style=\"text-align: right;\">\n",
       "      <th></th>\n",
       "      <th>name</th>\n",
       "      <th>price</th>\n",
       "      <th>address</th>\n",
       "      <th>discription</th>\n",
       "      <th>space_type</th>\n",
       "      <th>space_breadth</th>\n",
       "      <th>use_case</th>\n",
       "      <th>facility</th>\n",
       "      <th>image</th>\n",
       "      <th>post_number</th>\n",
       "      <th>prefecture</th>\n",
       "    </tr>\n",
       "  </thead>\n",
       "  <tbody>\n",
       "    <tr>\n",
       "      <th>2</th>\n",
       "      <td>四ツ谷絵本塾ホール</td>\n",
       "      <td>27500</td>\n",
       "      <td>東京都新宿区若葉1-22-16</td>\n",
       "      <td>['四ツ谷にある絵本塾ホールです。閑静な住宅街にあるホールは、コンサート、発表会、セミナー、...</td>\n",
       "      <td>屋内</td>\n",
       "      <td>72.9㎡</td>\n",
       "      <td>['教室/セミナー可']</td>\n",
       "      <td>['トイレ', '冷房', '屋根', '床(砂利・土以外)', '暖房', '電気コンセント']</td>\n",
       "      <td>https://business.cdn.nokisaki.com/subs/0/2/S_5...</td>\n",
       "      <td>1600011</td>\n",
       "      <td>東京都</td>\n",
       "    </tr>\n",
       "    <tr>\n",
       "      <th>39</th>\n",
       "      <td>白浜ビルSoulbarStone前</td>\n",
       "      <td>3300</td>\n",
       "      <td>東京都新宿区百人町1-22-26</td>\n",
       "      <td>['営業前のバーの軒下になります。形はL字型で奥行き1.5mのところと1mのところがあります...</td>\n",
       "      <td>屋外</td>\n",
       "      <td>3.24㎡</td>\n",
       "      <td>['販売可']</td>\n",
       "      <td>['屋根', '水道', '電気コンセント', '駐車場']</td>\n",
       "      <td>https://business.cdn.nokisaki.com/subs/0/39/S_...</td>\n",
       "      <td>1690073</td>\n",
       "      <td>東京都</td>\n",
       "    </tr>\n",
       "    <tr>\n",
       "      <th>95</th>\n",
       "      <td>ハウジングプラザ瀬田A(広告枠あり)</td>\n",
       "      <td>226281</td>\n",
       "      <td>東京都世田谷区瀬田5-20</td>\n",
       "      <td>['朝日新聞総合住宅展示場ハウジングプラザ瀬田内にあるイベントスペースです。この区画はA区画...</td>\n",
       "      <td>屋外</td>\n",
       "      <td>213.84㎡</td>\n",
       "      <td>['PR可']</td>\n",
       "      <td>['トイレ', '照明', '電気コンセント', '駐車場']</td>\n",
       "      <td>https://business.cdn.nokisaki.com/subs/0/95/S_...</td>\n",
       "      <td>1580095</td>\n",
       "      <td>東京都</td>\n",
       "    </tr>\n",
       "    <tr>\n",
       "      <th>96</th>\n",
       "      <td>ハウジングプラザ瀬田B(広告枠あり)</td>\n",
       "      <td>226281</td>\n",
       "      <td>東京都世田谷区瀬田5-20</td>\n",
       "      <td>['朝日新聞総合住宅展示場ハウジングプラザ瀬田内にあるイベントスペースです。この区画は区画(...</td>\n",
       "      <td>屋外</td>\n",
       "      <td>213.84㎡</td>\n",
       "      <td>['PR可']</td>\n",
       "      <td>['トイレ', '照明', '電気コンセント', '駐車場']</td>\n",
       "      <td>https://business.cdn.nokisaki.com/subs/0/96/S_...</td>\n",
       "      <td>1580095</td>\n",
       "      <td>東京都</td>\n",
       "    </tr>\n",
       "    <tr>\n",
       "      <th>97</th>\n",
       "      <td>ハウジングプラザ瀬田C(広告枠あり)</td>\n",
       "      <td>226281</td>\n",
       "      <td>東京都世田谷区瀬田5-20</td>\n",
       "      <td>['朝日新聞総合住宅展示場ハウジングプラザ瀬田内にあるイベントスペースです。この区画はD区画...</td>\n",
       "      <td>屋外</td>\n",
       "      <td>213.84㎡</td>\n",
       "      <td>['PR可']</td>\n",
       "      <td>['トイレ', '照明', '電気コンセント', '駐車場']</td>\n",
       "      <td>https://business.cdn.nokisaki.com/subs/0/97/S_...</td>\n",
       "      <td>1580095</td>\n",
       "      <td>東京都</td>\n",
       "    </tr>\n",
       "  </tbody>\n",
       "</table>\n",
       "</div>"
      ],
      "text/plain": [
       "                  name   price           address  \\\n",
       "2            四ツ谷絵本塾ホール   27500   東京都新宿区若葉1-22-16   \n",
       "39   白浜ビルSoulbarStone前    3300  東京都新宿区百人町1-22-26   \n",
       "95  ハウジングプラザ瀬田A(広告枠あり)  226281     東京都世田谷区瀬田5-20   \n",
       "96  ハウジングプラザ瀬田B(広告枠あり)  226281     東京都世田谷区瀬田5-20   \n",
       "97  ハウジングプラザ瀬田C(広告枠あり)  226281     東京都世田谷区瀬田5-20   \n",
       "\n",
       "                                          discription space_type  \\\n",
       "2   ['四ツ谷にある絵本塾ホールです。閑静な住宅街にあるホールは、コンサート、発表会、セミナー、...         屋内   \n",
       "39  ['営業前のバーの軒下になります。形はL字型で奥行き1.5mのところと1mのところがあります...         屋外   \n",
       "95  ['朝日新聞総合住宅展示場ハウジングプラザ瀬田内にあるイベントスペースです。この区画はA区画...         屋外   \n",
       "96  ['朝日新聞総合住宅展示場ハウジングプラザ瀬田内にあるイベントスペースです。この区画は区画(...         屋外   \n",
       "97  ['朝日新聞総合住宅展示場ハウジングプラザ瀬田内にあるイベントスペースです。この区画はD区画...         屋外   \n",
       "\n",
       "   space_breadth      use_case  \\\n",
       "2          72.9㎡  ['教室/セミナー可']   \n",
       "39         3.24㎡       ['販売可']   \n",
       "95       213.84㎡       ['PR可']   \n",
       "96       213.84㎡       ['PR可']   \n",
       "97       213.84㎡       ['PR可']   \n",
       "\n",
       "                                             facility  \\\n",
       "2   ['トイレ', '冷房', '屋根', '床(砂利・土以外)', '暖房', '電気コンセント']   \n",
       "39                     ['屋根', '水道', '電気コンセント', '駐車場']   \n",
       "95                    ['トイレ', '照明', '電気コンセント', '駐車場']   \n",
       "96                    ['トイレ', '照明', '電気コンセント', '駐車場']   \n",
       "97                    ['トイレ', '照明', '電気コンセント', '駐車場']   \n",
       "\n",
       "                                                image post_number prefecture  \n",
       "2   https://business.cdn.nokisaki.com/subs/0/2/S_5...     1600011        東京都  \n",
       "39  https://business.cdn.nokisaki.com/subs/0/39/S_...     1690073        東京都  \n",
       "95  https://business.cdn.nokisaki.com/subs/0/95/S_...     1580095        東京都  \n",
       "96  https://business.cdn.nokisaki.com/subs/0/96/S_...     1580095        東京都  \n",
       "97  https://business.cdn.nokisaki.com/subs/0/97/S_...     1580095        東京都  "
      ]
     },
     "execution_count": 79,
     "metadata": {},
     "output_type": "execute_result"
    }
   ],
   "source": [
    "df.head()"
   ]
  },
  {
   "cell_type": "code",
   "execution_count": 81,
   "id": "54362471-63c1-4e48-9248-ac7696335a17",
   "metadata": {},
   "outputs": [],
   "source": [
    "df.to_csv('cleaned_data.csv',index=False)"
   ]
  },
  {
   "cell_type": "code",
   "execution_count": null,
   "id": "18885d16-f1b9-4453-9b82-d559d4505994",
   "metadata": {},
   "outputs": [],
   "source": []
  }
 ],
 "metadata": {
  "kernelspec": {
   "display_name": "Python 3 (ipykernel)",
   "language": "python",
   "name": "python3"
  },
  "language_info": {
   "codemirror_mode": {
    "name": "ipython",
    "version": 3
   },
   "file_extension": ".py",
   "mimetype": "text/x-python",
   "name": "python",
   "nbconvert_exporter": "python",
   "pygments_lexer": "ipython3",
   "version": "3.9.7"
  }
 },
 "nbformat": 4,
 "nbformat_minor": 5
}
