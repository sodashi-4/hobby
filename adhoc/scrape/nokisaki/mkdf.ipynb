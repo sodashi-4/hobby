{
 "cells": [
  {
   "cell_type": "code",
   "execution_count": 16,
   "id": "34d309ed-d695-4b5c-99bf-e75cc6989eb6",
   "metadata": {},
   "outputs": [],
   "source": [
    "import pandas as pd\n",
    "import numpy as np\n",
    "\n",
    "def mkdf(df_name,column_list):\n",
    "    keys = column_list\n",
    "    values = np.zeros(len(column_list))\n",
    "    values[:] = np.nan\n",
    "    dictionary = dict(zip(keys, values))\n",
    "    df = pd.DataFrame(dictionary, index=[0])\n",
    "    df.to_csv(f'{df_name}.csv',index=False)"
   ]
  }
 ],
 "metadata": {
  "kernelspec": {
   "display_name": "Python 3 (ipykernel)",
   "language": "python",
   "name": "python3"
  },
  "language_info": {
   "codemirror_mode": {
    "name": "ipython",
    "version": 3
   },
   "file_extension": ".py",
   "mimetype": "text/x-python",
   "name": "python",
   "nbconvert_exporter": "python",
   "pygments_lexer": "ipython3",
   "version": "3.9.7"
  }
 },
 "nbformat": 4,
 "nbformat_minor": 5
}
