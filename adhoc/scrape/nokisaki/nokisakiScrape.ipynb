{
 "cells": [
  {
   "cell_type": "code",
   "execution_count": 7,
   "id": "173e3e4e-5f5d-4e4d-a5fd-b229c595fd9b",
   "metadata": {},
   "outputs": [
    {
     "name": "stdout",
     "output_type": "stream",
     "text": [
      "1\n",
      "四ツ谷 絵本塾ホール\n",
      "{'name': '四ツ谷絵本塾ホール', 'price': '27,500', 'address': '四ツ谷絵本塾ホール〒1600011東京都新宿区若葉1-22-16', 'discription': ['四ツ谷にある絵本塾ホールです。閑静な住宅街にあるホールは、コンサート、発表会、セミナー、など様々なイベント・催事にお使いいただくことができます。ご利用には、基本室内灯(蛍光灯)、机5台、イス60客、が含まれます。舞台照明、音響設備が別途料金にて利用可能です。45日前からのご予約に限り、特別料金にて受付けをしております。'], 'space_type': '屋内', 'space_breadth': '72.9㎡', 'use_case': ['教室/セミナー可'], 'facility': ['床(砂利・土以外)', '暖房', '冷房', '屋根', 'トイレ', '電気コンセント']}\n",
      "2\n",
      "四ツ谷 絵本塾ホール\n",
      "{'name': '四ツ谷絵本塾ホール', 'price': '27,500', 'address': '四ツ谷絵本塾ホール〒1600011東京都新宿区若葉1-22-16', 'discription': ['四ツ谷にある絵本塾ホールです。閑静な住宅街にあるホールは、コンサート、発表会、セミナー、など様々なイベント・催事にお使いいただくことができます。ご利用には、基本室内灯(蛍光灯)、机5台、イス60客、が含まれます。舞台照明、音響設備が別途料金にて利用可能です。45日前からのご予約に限り、特別料金にて受付けをしております。'], 'space_type': '屋内', 'space_breadth': '72.9㎡', 'use_case': ['教室/セミナー可'], 'facility': ['床(砂利・土以外)', '暖房', '冷房', '屋根', 'トイレ', '電気コンセント']}\n",
      "3\n",
      "四ツ谷 絵本塾ホール\n",
      "{'name': '四ツ谷絵本塾ホール', 'price': '27,500', 'address': '四ツ谷絵本塾ホール〒1600011東京都新宿区若葉1-22-16', 'discription': ['四ツ谷にある絵本塾ホールです。閑静な住宅街にあるホールは、コンサート、発表会、セミナー、など様々なイベント・催事にお使いいただくことができます。ご利用には、基本室内灯(蛍光灯)、机5台、イス60客、が含まれます。舞台照明、音響設備が別途料金にて利用可能です。45日前からのご予約に限り、特別料金にて受付けをしております。'], 'space_type': '屋内', 'space_breadth': '72.9㎡', 'use_case': ['教室/セミナー可'], 'facility': ['床(砂利・土以外)', '暖房', '冷房', '屋根', 'トイレ', '電気コンセント']}\n",
      "4\n",
      "四ツ谷 絵本塾ホール\n",
      "{'name': '四ツ谷絵本塾ホール', 'price': '27,500', 'address': '四ツ谷絵本塾ホール〒1600011東京都新宿区若葉1-22-16', 'discription': ['四ツ谷にある絵本塾ホールです。閑静な住宅街にあるホールは、コンサート、発表会、セミナー、など様々なイベント・催事にお使いいただくことができます。ご利用には、基本室内灯(蛍光灯)、机5台、イス60客、が含まれます。舞台照明、音響設備が別途料金にて利用可能です。45日前からのご予約に限り、特別料金にて受付けをしております。'], 'space_type': '屋内', 'space_breadth': '72.9㎡', 'use_case': ['教室/セミナー可'], 'facility': ['床(砂利・土以外)', '暖房', '冷房', '屋根', 'トイレ', '電気コンセント']}\n",
      "5\n",
      "四ツ谷 絵本塾ホール\n",
      "{'name': '四ツ谷絵本塾ホール', 'price': '27,500', 'address': '四ツ谷絵本塾ホール〒1600011東京都新宿区若葉1-22-16', 'discription': ['四ツ谷にある絵本塾ホールです。閑静な住宅街にあるホールは、コンサート、発表会、セミナー、など様々なイベント・催事にお使いいただくことができます。ご利用には、基本室内灯(蛍光灯)、机5台、イス60客、が含まれます。舞台照明、音響設備が別途料金にて利用可能です。45日前からのご予約に限り、特別料金にて受付けをしております。'], 'space_type': '屋内', 'space_breadth': '72.9㎡', 'use_case': ['教室/セミナー可'], 'facility': ['床(砂利・土以外)', '暖房', '冷房', '屋根', 'トイレ', '電気コンセント']}\n",
      "6\n",
      "四ツ谷 絵本塾ホール\n",
      "{'name': '四ツ谷絵本塾ホール', 'price': '27,500', 'address': '四ツ谷絵本塾ホール〒1600011東京都新宿区若葉1-22-16', 'discription': ['四ツ谷にある絵本塾ホールです。閑静な住宅街にあるホールは、コンサート、発表会、セミナー、など様々なイベント・催事にお使いいただくことができます。ご利用には、基本室内灯(蛍光灯)、机5台、イス60客、が含まれます。舞台照明、音響設備が別途料金にて利用可能です。45日前からのご予約に限り、特別料金にて受付けをしております。'], 'space_type': '屋内', 'space_breadth': '72.9㎡', 'use_case': ['教室/セミナー可'], 'facility': ['床(砂利・土以外)', '暖房', '冷房', '屋根', 'トイレ', '電気コンセント']}\n",
      "7\n",
      "四ツ谷 絵本塾ホール\n",
      "{'name': '四ツ谷絵本塾ホール', 'price': '27,500', 'address': '四ツ谷絵本塾ホール〒1600011東京都新宿区若葉1-22-16', 'discription': ['四ツ谷にある絵本塾ホールです。閑静な住宅街にあるホールは、コンサート、発表会、セミナー、など様々なイベント・催事にお使いいただくことができます。ご利用には、基本室内灯(蛍光灯)、机5台、イス60客、が含まれます。舞台照明、音響設備が別途料金にて利用可能です。45日前からのご予約に限り、特別料金にて受付けをしております。'], 'space_type': '屋内', 'space_breadth': '72.9㎡', 'use_case': ['教室/セミナー可'], 'facility': ['床(砂利・土以外)', '暖房', '冷房', '屋根', 'トイレ', '電気コンセント']}\n",
      "8\n",
      "四ツ谷 絵本塾ホール\n",
      "{'name': '四ツ谷絵本塾ホール', 'price': '27,500', 'address': '四ツ谷絵本塾ホール〒1600011東京都新宿区若葉1-22-16', 'discription': ['四ツ谷にある絵本塾ホールです。閑静な住宅街にあるホールは、コンサート、発表会、セミナー、など様々なイベント・催事にお使いいただくことができます。ご利用には、基本室内灯(蛍光灯)、机5台、イス60客、が含まれます。舞台照明、音響設備が別途料金にて利用可能です。45日前からのご予約に限り、特別料金にて受付けをしております。'], 'space_type': '屋内', 'space_breadth': '72.9㎡', 'use_case': ['教室/セミナー可'], 'facility': ['床(砂利・土以外)', '暖房', '冷房', '屋根', 'トイレ', '電気コンセント']}\n",
      "9\n",
      "四ツ谷 絵本塾ホール\n",
      "{'name': '四ツ谷絵本塾ホール', 'price': '27,500', 'address': '四ツ谷絵本塾ホール〒1600011東京都新宿区若葉1-22-16', 'discription': ['四ツ谷にある絵本塾ホールです。閑静な住宅街にあるホールは、コンサート、発表会、セミナー、など様々なイベント・催事にお使いいただくことができます。ご利用には、基本室内灯(蛍光灯)、机5台、イス60客、が含まれます。舞台照明、音響設備が別途料金にて利用可能です。45日前からのご予約に限り、特別料金にて受付けをしております。'], 'space_type': '屋内', 'space_breadth': '72.9㎡', 'use_case': ['教室/セミナー可'], 'facility': ['床(砂利・土以外)', '暖房', '冷房', '屋根', 'トイレ', '電気コンセント']}\n"
     ]
    }
   ],
   "source": [
    "import requests\n",
    "from bs4 import BeautifulSoup\n",
    "import pandas as pd\n",
    "from lxml import html\n",
    "from time import sleep\n",
    "import re\n",
    "import warnings\n",
    "warnings.simplefilter('ignore')\n",
    "import requests_cache\n",
    "import datetime\n",
    "\n",
    "expire_after = datetime.timedelta(weeks=1)\n",
    "requests_cache.install_cache(cache_name='nokisaki', backend='sqlite', expire_after=expire_after)\n",
    "\n",
    "df = pd.read_csv('start.csv')\n",
    "\n",
    "def parce_item(x):    \n",
    "    if type(x) == str:\n",
    "        x = re.sub(r\"\\s\",\"\",x)\n",
    "        return x\n",
    "    elif type(x) == list:\n",
    "        lists = []\n",
    "        for li in x:\n",
    "            lists.append(re.sub(r\"\\s\",\"\",li)) \n",
    "        return lists\n",
    "    else:\n",
    "        print(type(x))\n",
    "\n",
    "for i in range(1,10):\n",
    "    sleep(1)\n",
    "    print(i)\n",
    "    request_url = f'https://business.nokisaki.com/spaces/detail/{2}'\n",
    "\n",
    "    res = requests.get(request_url)\n",
    "\n",
    "    source_block = BeautifulSoup(res.text, 'html.parser')\n",
    "    # source_block\n",
    "\n",
    "    source = html.fromstring(res.text)\n",
    "    print(source.xpath(\"//h1/text()\")[0])\n",
    "    if source.xpath(\"//h1/text()\")[0] != 'エラー':\n",
    "        use_case_lists = ['販売可','車出店可','PR可','撮影可','教室/セミナー可','防音','鏡あり']\n",
    "        facility_lists = ['駐車場','鍵','水道','扉','シャッター','床(砂利・土)','床(砂利・土以外)','電気コンセント','照明','暖房','冷房','屋根','トイレ','インターネット']\n",
    "\n",
    "        name = source.xpath(\"//h1[@class='space-title']\")[0].text\n",
    "\n",
    "        price = source.xpath(\"//table//td/span[@class='price-amount']\")[0].text\n",
    "\n",
    "        space_info = source.xpath(\"//tr[@class='type-extent']/td/text()\") # type/広さ\n",
    "\n",
    "        space_type = space_info[0].split('/')[0]\n",
    "        space_breadth = space_info[0].split('/')[1]\n",
    "\n",
    "        use_cases = source.xpath(\"//div[contains(@class,'space-condition')]//span[contains(@class,'disactive')]/text()[2]\")\n",
    "\n",
    "        facility = source.xpath(\"//div[contains(@class,'space-setsubi')]//div[contains(@class,'expandable-content')]//div[contains(@class,'disactive')]/text()[2]\")   \n",
    "\n",
    "        address = ''.join(source.xpath(\"//div[contains(@class,'space-address')]/h3/text()\"))\n",
    "\n",
    "        discription = source.xpath(\"//div[@class='space-pr']/text()\")\n",
    "\n",
    "        row_data = {\n",
    "            'name': parce_item(name), \n",
    "            'price': parce_item(price), \n",
    "            'address': parce_item(address), \n",
    "            'discription': parce_item(discription), \n",
    "            'space_type': parce_item(space_info[0].split('/')[0]),\n",
    "            'space_breadth': parce_item(space_info[0].split('/')[1]),\n",
    "            'use_case': list(set(parce_item(use_cases)) ^ set(use_case_lists)),\n",
    "            'facility': list(set(parce_item(facility)) ^ set(facility_lists))\n",
    "        }\n",
    "        print(row_data)\n",
    "        df = df.append(row_data, ignore_index=True, sort=False)\n",
    "    else:\n",
    "        row_data = {\n",
    "            'name': '-',\n",
    "            'price': '-',\n",
    "            'address': '-',\n",
    "            'discription': '-',\n",
    "            'space_type': '-',\n",
    "            'space_breadth': '-',\n",
    "            'use_case': '-',\n",
    "            'facility': '-',\n",
    "        }\n",
    "        print(row_data)\n",
    "        df = df.append(row_data, ignore_index=True, sort=False)\n",
    "\n",
    "df.to_csv(\"nokisaki.csv\",index=False)\n",
    "\n"
   ]
  },
  {
   "cell_type": "code",
   "execution_count": 19,
   "id": "baa73e82-2ea1-48d8-96ff-6754efdc4f08",
   "metadata": {},
   "outputs": [],
   "source": [
    "url = r'https?://([\\w-]+\\.)+[\\w-]+(/[\\w-./?%&=]*)?'"
   ]
  },
  {
   "cell_type": "code",
   "execution_count": 20,
   "id": "d49608c1-1732-4508-94e7-e8609074cb5e",
   "metadata": {},
   "outputs": [
    {
     "data": {
      "text/plain": [
       "'background-image: url(https://business.cdn.nokisaki.com/subs/0/2/S_54aa41b82c5f8.jpg);'"
      ]
     },
     "execution_count": 20,
     "metadata": {},
     "output_type": "execute_result"
    }
   ],
   "source": [
    "source.xpath(\"//div[@class='image']/@style\")[0]"
   ]
  },
  {
   "cell_type": "code",
   "execution_count": 25,
   "id": "0a3313d1-3a90-424f-9713-ee5ec25ba646",
   "metadata": {},
   "outputs": [
    {
     "data": {
      "text/plain": [
       "'https://business.cdn.nokisaki.com/subs/0/2/S_54aa41b82c5f8.jpg)'"
      ]
     },
     "execution_count": 25,
     "metadata": {},
     "output_type": "execute_result"
    }
   ],
   "source": [
    "re.findall(r'https?://[\\w/:%#\\$&\\?\\(\\)~\\.=\\+\\-]+',source.xpath(\"//div[@class='image']/@style\")[0])[0]"
   ]
  },
  {
   "cell_type": "code",
   "execution_count": null,
   "id": "6648846b-1d85-4792-9a8b-e9dcf16c31c1",
   "metadata": {},
   "outputs": [],
   "source": []
  }
 ],
 "metadata": {
  "kernelspec": {
   "display_name": "Python 3 (ipykernel)",
   "language": "python",
   "name": "python3"
  },
  "language_info": {
   "codemirror_mode": {
    "name": "ipython",
    "version": 3
   },
   "file_extension": ".py",
   "mimetype": "text/x-python",
   "name": "python",
   "nbconvert_exporter": "python",
   "pygments_lexer": "ipython3",
   "version": "3.9.7"
  }
 },
 "nbformat": 4,
 "nbformat_minor": 5
}
