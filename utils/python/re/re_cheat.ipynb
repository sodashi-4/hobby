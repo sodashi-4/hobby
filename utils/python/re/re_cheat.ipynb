{
 "cells": [
  {
   "cell_type": "markdown",
   "id": "5f867521-c374-4cbe-904d-862374d50521",
   "metadata": {},
   "source": [
    "正規表現チートシート"
   ]
  },
  {
   "cell_type": "code",
   "execution_count": 1,
   "id": "cc8efa26-c2d6-4b02-8072-617b2e5ca898",
   "metadata": {},
   "outputs": [],
   "source": [
    "import re"
   ]
  },
  {
   "cell_type": "code",
   "execution_count": 2,
   "id": "b6936541-0785-4621-9c3b-126dd1bc24c9",
   "metadata": {},
   "outputs": [],
   "source": [
    "# Email アドレス (RFC準拠ではない)\n",
    "email = '^\\w+([-+.]\\w+)*@\\w+([-.]\\w+)*\\.\\w+([-.]\\w+)*$'"
   ]
  },
  {
   "cell_type": "code",
   "execution_count": 3,
   "id": "3fde12ec-2bff-4850-abff-474a6239d854",
   "metadata": {},
   "outputs": [],
   "source": [
    "# URL\n",
    "url = '^https?://([\\w-]+\\.)+[\\w-]+(/[\\w-./?%&=]*)?$'"
   ]
  },
  {
   "cell_type": "code",
   "execution_count": 4,
   "id": "16c3a32b-8920-4ad9-b0ec-d16a161d845b",
   "metadata": {},
   "outputs": [],
   "source": [
    "# ドメイン名\n",
    "domain = '^[a-zA-Z0-9][a-zA-Z0-9-]{1,61}[a-zA-Z0-9]\\.[a-zA-Z-]{2,}$'"
   ]
  },
  {
   "cell_type": "code",
   "execution_count": null,
   "id": "9c0da554-4885-4a2f-b728-f6d6214ad6d0",
   "metadata": {},
   "outputs": [],
   "source": [
    "# 固定電話番号\n",
    "fax = '^0\\d(-\\d{4}|\\d-\\d{3}|\\d\\d-\\d\\d|\\d{3}-\\d)-\\d{4}$'"
   ]
  },
  {
   "cell_type": "code",
   "execution_count": null,
   "id": "4c413562-6a1f-4396-ad68-4aab0df8d2ac",
   "metadata": {},
   "outputs": [],
   "source": [
    "# 携帯電話番号\n",
    "phone = '^0[789]0-\\d{4}-\\d{4}$'"
   ]
  },
  {
   "cell_type": "code",
   "execution_count": null,
   "id": "ae7bbdcd-b039-45ce-a892-b6378f7a5b9f",
   "metadata": {},
   "outputs": [],
   "source": [
    "# IP 電話番号\n",
    "IP_phone = '^050-\\d{4}-\\d{4}$'"
   ]
  },
  {
   "cell_type": "code",
   "execution_count": 5,
   "id": "8bdd3ec2-45dc-45c1-8272-fff5ae5db316",
   "metadata": {},
   "outputs": [],
   "source": [
    "# フリーダイヤル\n",
    "Toll_free = '^(0120|0800)-\\d{3}-\\d{3}$'"
   ]
  },
  {
   "cell_type": "code",
   "execution_count": 6,
   "id": "06dc6c04-a925-4684-8209-0e1f29923b97",
   "metadata": {},
   "outputs": [],
   "source": [
    "# 日付 (YYYY-MM-DD形式)\n",
    "date = '^\\d{4}-\\d\\d-\\d\\d$'"
   ]
  },
  {
   "cell_type": "code",
   "execution_count": 7,
   "id": "63dd7d62-8eb9-4542-8a2d-fa553d4ff99e",
   "metadata": {},
   "outputs": [],
   "source": [
    "# 郵便番号\n",
    "post_number = '^\\d{3}-\\d{4}$'"
   ]
  },
  {
   "cell_type": "code",
   "execution_count": null,
   "id": "43d495ec-6c27-44f1-8f9e-5c1b43fa2988",
   "metadata": {},
   "outputs": [],
   "source": []
  }
 ],
 "metadata": {
  "kernelspec": {
   "display_name": "Python 3 (ipykernel)",
   "language": "python",
   "name": "python3"
  },
  "language_info": {
   "codemirror_mode": {
    "name": "ipython",
    "version": 3
   },
   "file_extension": ".py",
   "mimetype": "text/x-python",
   "name": "python",
   "nbconvert_exporter": "python",
   "pygments_lexer": "ipython3",
   "version": "3.9.7"
  }
 },
 "nbformat": 4,
 "nbformat_minor": 5
}
