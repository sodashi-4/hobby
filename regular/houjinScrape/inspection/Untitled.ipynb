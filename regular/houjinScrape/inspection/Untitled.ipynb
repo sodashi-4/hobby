{
 "cells": [
  {
   "cell_type": "code",
   "execution_count": 53,
   "id": "03078cf2-3e61-47a1-b7c0-3e769c569b83",
   "metadata": {},
   "outputs": [],
   "source": [
    "import requests\n",
    "from lxml import html\n",
    "from bs4 import BeautifulSoup\n",
    "from time import sleep"
   ]
  },
  {
   "cell_type": "code",
   "execution_count": 54,
   "id": "c02eeded-eb35-4e5b-bf08-c58b19074157",
   "metadata": {},
   "outputs": [],
   "source": [
    "i = 1"
   ]
  },
  {
   "cell_type": "code",
   "execution_count": 55,
   "id": "945450c1-380e-4f09-9450-ec584d156d6c",
   "metadata": {},
   "outputs": [],
   "source": [
    "request_uri = f'https://houjin.jp/events?from=&page={i}&pref_id=&to=&type=closed'"
   ]
  },
  {
   "cell_type": "code",
   "execution_count": 56,
   "id": "e631f583-f914-404e-a88c-5af9cbcf3a43",
   "metadata": {},
   "outputs": [],
   "source": [
    "res = requests.get(request_uri)"
   ]
  },
  {
   "cell_type": "code",
   "execution_count": 57,
   "id": "71ea0c4d-588c-4fe5-b8c7-6754318795f1",
   "metadata": {},
   "outputs": [],
   "source": [
    "source_block = BeautifulSoup(res.text, 'html.parser')\n",
    "# source_block\n",
    "\n",
    "source = html.fromstring(res.text)"
   ]
  },
  {
   "cell_type": "code",
   "execution_count": 58,
   "id": "61ca0b0f-558f-4041-8194-d5c2c781374f",
   "metadata": {},
   "outputs": [
    {
     "data": {
      "text/plain": [
       "'株式会社ミッテル薬品'"
      ]
     },
     "execution_count": 58,
     "metadata": {},
     "output_type": "execute_result"
    }
   ],
   "source": [
    "source.xpath('//section[@class=\"c-corp-item\"]/a/div/h2')[0].text"
   ]
  },
  {
   "cell_type": "code",
   "execution_count": 59,
   "id": "8f0a6a9f-4923-4a94-838e-a193dd3721fa",
   "metadata": {},
   "outputs": [],
   "source": [
    "URL = 'https://houjin.jp/'"
   ]
  },
  {
   "cell_type": "code",
   "execution_count": 60,
   "id": "5bca0619-5f26-4a55-9501-4984ed00c40f",
   "metadata": {},
   "outputs": [],
   "source": [
    "paths = source.xpath(\"//section[@class='c-corp-item']/a/@href\")"
   ]
  },
  {
   "cell_type": "code",
   "execution_count": 61,
   "id": "30d8d8b2-a338-4f0e-baf7-9a79ca886ed8",
   "metadata": {},
   "outputs": [
    {
     "data": {
      "text/plain": [
       "['/c/1460301001063',\n",
       " '/c/1120003017615',\n",
       " '/c/2021002033760',\n",
       " '/c/2120001066365',\n",
       " '/c/2200003004158',\n",
       " '/c/2360002016956',\n",
       " '/c/3120001126036',\n",
       " '/c/3120001189512',\n",
       " '/c/5080002012279',\n",
       " '/c/5120001147294',\n",
       " '/c/5240002009894',\n",
       " '/c/5260002006683',\n",
       " '/c/7080102009751',\n",
       " '/c/7280001002465',\n",
       " '/c/7310001008120',\n",
       " '/c/8120101027633',\n",
       " '/c/1011703002330',\n",
       " '/c/1290801022304',\n",
       " '/c/1450001003105',\n",
       " '/c/2290802003814',\n",
       " '/c/2450001006800',\n",
       " '/c/5180001123389',\n",
       " '/c/6480002005159',\n",
       " '/c/1100001008700',\n",
       " '/c/1120005001328']"
      ]
     },
     "execution_count": 61,
     "metadata": {},
     "output_type": "execute_result"
    }
   ],
   "source": [
    "paths"
   ]
  },
  {
   "cell_type": "code",
   "execution_count": 48,
   "id": "1eeb0ab7-b938-454f-9d81-5bef27cfd225",
   "metadata": {},
   "outputs": [],
   "source": [
    "res_detail = requests.get(URL + path)\n",
    "source_block = BeautifulSoup(res_detail.text, 'html.parser')\n",
    "source = html.fromstring(res_detail.text)\n"
   ]
  },
  {
   "cell_type": "code",
   "execution_count": 49,
   "id": "c844ceb5-435b-4299-9eb0-a55f296bf7b7",
   "metadata": {},
   "outputs": [
    {
     "data": {
      "text/plain": [
       "'株式会社ミッテル薬品'"
      ]
     },
     "execution_count": 49,
     "metadata": {},
     "output_type": "execute_result"
    }
   ],
   "source": [
    "source.xpath('//div[@class=\"content\"]//div[@class=\"corp-header-main\"]/h1/text()')[0]"
   ]
  },
  {
   "cell_type": "code",
   "execution_count": 62,
   "id": "43cec1a6-4ee3-4a08-9233-4a753e69278d",
   "metadata": {},
   "outputs": [],
   "source": [
    "store = []"
   ]
  },
  {
   "cell_type": "code",
   "execution_count": 52,
   "id": "ebadf833-53ee-438a-a88e-d98098e1ba3d",
   "metadata": {},
   "outputs": [
    {
     "data": {
      "text/plain": [
       "[]"
      ]
     },
     "execution_count": 52,
     "metadata": {},
     "output_type": "execute_result"
    }
   ],
   "source": [
    "paths"
   ]
  },
  {
   "cell_type": "code",
   "execution_count": 65,
   "id": "90456e7c-59f3-4868-b812-cd8500bf4086",
   "metadata": {},
   "outputs": [
    {
     "name": "stdout",
     "output_type": "stream",
     "text": [
      "株式会社ミッテル薬品\n",
      "バリューオフィス合同会社\n",
      "有限会社リフレッシュ\n",
      "株式会社ダイナミックマーケティング社\n",
      "合同会社APIA\n",
      "有限会社外間オプチカル\n",
      "甲斐高橋保険システム株式会社\n",
      "株式会社リンクカンパニー\n",
      "有限会社リプル\n",
      "株式会社アイ・エス・ティ関西\n",
      "有限会社タック\n",
      "有限会社テクノ佐々木\n",
      "有限会社大瀧梱包\n",
      "株式会社安來苑\n",
      "株式会社野口工業\n",
      "ライフアート住販株式会社\n",
      "ハニーズエクスプレス合同会社\n",
      "光成建設株式会社\n",
      "丸和産業株式会社\n",
      "有限会社タカハ\n",
      "株式会社エフ・エムガレージ\n",
      "株式会社STスチール\n",
      "有限会社山田鉄工所\n",
      "株式会社あさま\n",
      "清心院\n"
     ]
    }
   ],
   "source": [
    "for path in paths:\n",
    "    res_detail = requests.get(URL + path)\n",
    "    source = html.fromstring(res_detail.text)\n",
    "    title = source.xpath('//div[@class=\"content\"]//div[@class=\"corp-header-main\"]/h1/text()')[0]\n",
    "    print(title)\n",
    "    store.append(title)\n",
    "    # sleep(3)"
   ]
  },
  {
   "cell_type": "code",
   "execution_count": null,
   "id": "a23bf9ac-1691-4607-acb4-5cbc77bd4939",
   "metadata": {},
   "outputs": [],
   "source": []
  }
 ],
 "metadata": {
  "kernelspec": {
   "display_name": "Python 3 (ipykernel)",
   "language": "python",
   "name": "python3"
  },
  "language_info": {
   "codemirror_mode": {
    "name": "ipython",
    "version": 3
   },
   "file_extension": ".py",
   "mimetype": "text/x-python",
   "name": "python",
   "nbconvert_exporter": "python",
   "pygments_lexer": "ipython3",
   "version": "3.9.7"
  }
 },
 "nbformat": 4,
 "nbformat_minor": 5
}
